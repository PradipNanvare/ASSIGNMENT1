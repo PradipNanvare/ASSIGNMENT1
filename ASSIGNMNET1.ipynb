{
 "cells": [
  {
   "cell_type": "code",
   "execution_count": null,
   "id": "6763151f-9886-4401-9106-edf814c845ba",
   "metadata": {},
   "outputs": [],
   "source": [
    "#Q1 "
   ]
  },
  {
   "cell_type": "code",
   "execution_count": 4,
   "id": "20facbc4-b93b-4437-8bd0-84bfafd084ee",
   "metadata": {},
   "outputs": [],
   "source": [
    "PYTHONFOUNDER = \"GUIDO VAN ROSSUM IN 1970\""
   ]
  },
  {
   "cell_type": "code",
   "execution_count": 6,
   "id": "db96454c-df21-4e4c-b2cb-819b1b41990e",
   "metadata": {},
   "outputs": [
    {
     "name": "stdout",
     "output_type": "stream",
     "text": [
      "GUIDO VAN ROSSUM IN 1970\n"
     ]
    }
   ],
   "source": [
    "print(PYTHONFOUNDER)"
   ]
  },
  {
   "cell_type": "code",
   "execution_count": null,
   "id": "64f23f14-771e-4e61-a487-75544a3de110",
   "metadata": {},
   "outputs": [],
   "source": [
    "#Q2"
   ]
  },
  {
   "cell_type": "code",
   "execution_count": null,
   "id": "3f808ea5-190a-4454-b6c3-5a59eb138833",
   "metadata": {},
   "outputs": [],
   "source": [
    "#pthon is object oriented and structure based programming language"
   ]
  },
  {
   "cell_type": "code",
   "execution_count": null,
   "id": "eb29eeb1-c6a3-40ae-b138-52b23e0d0b04",
   "metadata": {},
   "outputs": [],
   "source": [
    "#Q3"
   ]
  },
  {
   "cell_type": "code",
   "execution_count": null,
   "id": "b89d61f4-0402-4f7f-8bd8-76b8e83355f0",
   "metadata": {},
   "outputs": [],
   "source": [
    "yes python is case sensetive programming language"
   ]
  },
  {
   "cell_type": "code",
   "execution_count": null,
   "id": "9e03b63f-cadc-43ee-94b5-e41636092e4f",
   "metadata": {},
   "outputs": [],
   "source": [
    "#Q4"
   ]
  },
  {
   "cell_type": "code",
   "execution_count": null,
   "id": "34083783-0bfd-47e0-9e4e-32c5b2d3f8ce",
   "metadata": {},
   "outputs": [],
   "source": [
    "best extention for python is jupyter"
   ]
  },
  {
   "cell_type": "code",
   "execution_count": null,
   "id": "aada0823-60a7-4890-9d5d-f4c039547a15",
   "metadata": {},
   "outputs": [],
   "source": [
    "#Q5"
   ]
  },
  {
   "cell_type": "code",
   "execution_count": null,
   "id": "ddf8a9ed-c1d0-4009-9ec2-728f8b50d523",
   "metadata": {},
   "outputs": [],
   "source": [
    ".py extension is the extention of python file"
   ]
  },
  {
   "cell_type": "code",
   "execution_count": null,
   "id": "e08f4297-e729-4721-a77f-f3cd3543f93e",
   "metadata": {},
   "outputs": [],
   "source": [
    "#Q6"
   ]
  },
  {
   "cell_type": "code",
   "execution_count": null,
   "id": "887900d4-185f-4891-b08f-9a8b554cf959",
   "metadata": {},
   "outputs": [],
   "source": [
    "python are both compiled and interpreted "
   ]
  },
  {
   "cell_type": "code",
   "execution_count": null,
   "id": "f1bec108-5f37-4c18-b544-dd28713d412a",
   "metadata": {},
   "outputs": [],
   "source": [
    "#Q7"
   ]
  },
  {
   "cell_type": "code",
   "execution_count": null,
   "id": "8ffab363-30f6-4f5f-bb85-e190dc0a135b",
   "metadata": {},
   "outputs": [],
   "source": [
    "# use to single line command"
   ]
  },
  {
   "cell_type": "code",
   "execution_count": null,
   "id": "933f4c87-8c09-425b-beb2-63783543f858",
   "metadata": {},
   "outputs": [],
   "source": [
    "#Q8"
   ]
  },
  {
   "cell_type": "code",
   "execution_count": null,
   "id": "c6a96117-e0e9-42e8-b17a-aa7dd0b4f066",
   "metadata": {},
   "outputs": [],
   "source": [
    " python_version() "
   ]
  },
  {
   "cell_type": "code",
   "execution_count": null,
   "id": "797c6875-b62e-47af-a4a3-05afccd914da",
   "metadata": {},
   "outputs": [],
   "source": [
    "#Q9"
   ]
  },
  {
   "cell_type": "code",
   "execution_count": null,
   "id": "c53dcb69-9fe1-4528-a1b9-3b87e1fbc171",
   "metadata": {},
   "outputs": [],
   "source": [
    "lambda"
   ]
  },
  {
   "cell_type": "code",
   "execution_count": null,
   "id": "587eaddf-ff05-45bf-b21e-efb9981f912b",
   "metadata": {},
   "outputs": [],
   "source": [
    "#Q10"
   ]
  },
  {
   "cell_type": "code",
   "execution_count": null,
   "id": "66bf3bee-a572-4f8b-bba5-4e00413abd64",
   "metadata": {},
   "outputs": [],
   "source": [
    "pip use in python to install the library"
   ]
  },
  {
   "cell_type": "code",
   "execution_count": null,
   "id": "ff5ba99e-0010-4d21-a4c0-1c5069c5b66e",
   "metadata": {},
   "outputs": [],
   "source": [
    "#Q11"
   ]
  },
  {
   "cell_type": "code",
   "execution_count": null,
   "id": "ea66cf2e-4d6b-4305-8359-01bda74dee5e",
   "metadata": {},
   "outputs": [],
   "source": [
    "int(),float(),dict(),str(),len(),"
   ]
  },
  {
   "cell_type": "code",
   "execution_count": null,
   "id": "a2874807-b1b3-42d3-bb42-125ec94f13b5",
   "metadata": {},
   "outputs": [],
   "source": [
    "#Q12"
   ]
  },
  {
   "cell_type": "code",
   "execution_count": null,
   "id": "981ada47-a36e-4705-b9f0-83bcdc998a4b",
   "metadata": {},
   "outputs": [],
   "source": [
    "it is 72 characters"
   ]
  },
  {
   "cell_type": "code",
   "execution_count": null,
   "id": "2d8b5b98-da66-4754-adfd-400a39d174d9",
   "metadata": {},
   "outputs": [],
   "source": [
    "#Q13"
   ]
  },
  {
   "cell_type": "code",
   "execution_count": null,
   "id": "20741fe2-3633-47fb-a6ca-7db26ab64a76",
   "metadata": {},
   "outputs": [],
   "source": [
    "python is useful for make the business automated,data scince ,artificial intalligance,web devlopment,software devlopment and many more"
   ]
  },
  {
   "cell_type": "code",
   "execution_count": null,
   "id": "b53469a1-99d9-4cc7-88cd-9af6b16ff803",
   "metadata": {},
   "outputs": [],
   "source": [
    "#Q14"
   ]
  },
  {
   "cell_type": "code",
   "execution_count": null,
   "id": "ff492d62-a2bb-4805-945c-a624db2ae01d",
   "metadata": {},
   "outputs": [],
   "source": [
    "Python uses the dynamic memory allocation which is managed by the Heap data structure"
   ]
  },
  {
   "cell_type": "code",
   "execution_count": null,
   "id": "e34a8dae-f8ff-4ff0-9941-39c3e5740515",
   "metadata": {},
   "outputs": [],
   "source": [
    "#Q15"
   ]
  },
  {
   "cell_type": "code",
   "execution_count": null,
   "id": "1d89761f-3e59-452b-a700-6880a4c90e14",
   "metadata": {},
   "outputs": [],
   "source": [
    "Download the latest version of Python from the official website: https://www.python.org/downloads/\n",
    "\n",
    "Run the Python installer and follow the steps to install it. Make sure to check the option to add Python to the PATH environment variable during the installation process.\n",
    "\n",
    "After the installation is complete, open the Command Prompt and type \"python\" to verify that it's installed correctly. You should see the Python version and the command prompt.\n",
    "\n",
    "To set the PATH variable, go to the Control Panel -> System and Security -> System -> Advanced system settings.\n",
    "\n",
    "Click on the \"Environment Variables\" button.\n",
    "\n",
    "Under System Variables, scroll down and find the \"Path\" variable, then click \"Edit\".\n",
    "\n",
    "Add the path to your Python installation, typically \"C:\\PythonXX\", where XX is the version number of Python you installed.\n",
    "\n",
    "Close the Command Prompt and open a new one. Type \"python\" again to verify that the PATH variable has been set correctly.\n",
    "\n",
    "Now you should be able to run Python from the Command Prompt by simply typing \"python\"."
   ]
  },
  {
   "cell_type": "code",
   "execution_count": null,
   "id": "87d75f01-4fe6-4581-b2c7-a66ee3d6ec0f",
   "metadata": {},
   "outputs": [],
   "source": [
    "#Q16"
   ]
  },
  {
   "cell_type": "code",
   "execution_count": null,
   "id": "42f83168-0e7e-4b61-9f8a-22fb2db07258",
   "metadata": {},
   "outputs": [],
   "source": [
    "yes indentation is important"
   ]
  },
  {
   "cell_type": "code",
   "execution_count": null,
   "id": "1d37e026-c222-4e12-9e0c-3cb906c06779",
   "metadata": {},
   "outputs": [],
   "source": []
  }
 ],
 "metadata": {
  "kernelspec": {
   "display_name": "Python 3 (ipykernel)",
   "language": "python",
   "name": "python3"
  },
  "language_info": {
   "codemirror_mode": {
    "name": "ipython",
    "version": 3
   },
   "file_extension": ".py",
   "mimetype": "text/x-python",
   "name": "python",
   "nbconvert_exporter": "python",
   "pygments_lexer": "ipython3",
   "version": "3.10.8"
  }
 },
 "nbformat": 4,
 "nbformat_minor": 5
}
